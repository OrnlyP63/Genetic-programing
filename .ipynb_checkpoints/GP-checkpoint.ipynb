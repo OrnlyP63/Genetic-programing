{
 "cells": [
  {
   "cell_type": "code",
   "execution_count": 24,
   "metadata": {},
   "outputs": [],
   "source": [
    "import random\n",
    "import math"
   ]
  },
  {
   "cell_type": "code",
   "execution_count": 25,
   "metadata": {},
   "outputs": [],
   "source": [
    "operators = '+-*/'\n",
    "values = '0123456789'\n",
    "functions = {'sigma':1}"
   ]
  },
  {
   "cell_type": "code",
   "execution_count": 26,
   "metadata": {},
   "outputs": [],
   "source": [
    "def sigma(num):\n",
    "    return sum([i for i in range(1, num) if num % i == 0])"
   ]
  },
  {
   "cell_type": "code",
   "execution_count": 27,
   "metadata": {},
   "outputs": [
    {
     "data": {
      "text/plain": [
       "6"
      ]
     },
     "execution_count": 27,
     "metadata": {},
     "output_type": "execute_result"
    }
   ],
   "source": [
    "sigma(6)"
   ]
  },
  {
   "cell_type": "code",
   "execution_count": 28,
   "metadata": {},
   "outputs": [],
   "source": [
    "def isOperator(val):\n",
    "    return val in operators\n",
    "\n",
    "def isFunction(val):\n",
    "    return val in functions"
   ]
  },
  {
   "cell_type": "code",
   "execution_count": 29,
   "metadata": {},
   "outputs": [
    {
     "data": {
      "text/plain": [
       "True"
      ]
     },
     "execution_count": 29,
     "metadata": {},
     "output_type": "execute_result"
    }
   ],
   "source": [
    "isFunction('sigma')"
   ]
  },
  {
   "cell_type": "code",
   "execution_count": 30,
   "metadata": {},
   "outputs": [
    {
     "data": {
      "text/plain": [
       "False"
      ]
     },
     "execution_count": 30,
     "metadata": {},
     "output_type": "execute_result"
    }
   ],
   "source": [
    "isFunction('5')"
   ]
  },
  {
   "cell_type": "code",
   "execution_count": 31,
   "metadata": {},
   "outputs": [],
   "source": [
    "def getNode():\n",
    "    a = math.floor(random.random() * 2)\n",
    "    b = math.floor(random.random() * 2)\n",
    "    if a:\n",
    "        if b:\n",
    "            return operators[math.floor(random.random() * len(operators))]\n",
    "        else: \n",
    "            return list(functions.keys())[math.floor(random.random() * len(functions))]\n",
    "    else:\n",
    "        return values[math.floor(random.random() * len(values))]"
   ]
  },
  {
   "cell_type": "code",
   "execution_count": 37,
   "metadata": {},
   "outputs": [],
   "source": [
    "def tree():\n",
    "    result = []\n",
    "    \n",
    "    node = getNode()\n",
    "    result.append(node)\n",
    "    \n",
    "    if isOperator(node):\n",
    "        left = tree()\n",
    "        right = tree()\n",
    "        \n",
    "        result.extend(left)\n",
    "        result.extend(right)\n",
    "        \n",
    "    elif isFunction(node):\n",
    "        num_arg = functions[node]\n",
    "        arg = [tree() for _ in range(num_arg)]\n",
    "        \n",
    "#         for i in range(num_arg):\n",
    "#             vars()[f'arg_{i}'] = tree()\n",
    "        result.extend(*arg)\n",
    "        \n",
    "    return result"
   ]
  },
  {
   "cell_type": "code",
   "execution_count": 42,
   "metadata": {},
   "outputs": [
    {
     "data": {
      "text/plain": [
       "['sigma',\n",
       " 'sigma',\n",
       " '*',\n",
       " '*',\n",
       " 'sigma',\n",
       " '+',\n",
       " '4',\n",
       " '0',\n",
       " '/',\n",
       " '*',\n",
       " '8',\n",
       " 'sigma',\n",
       " '8',\n",
       " '9',\n",
       " '*',\n",
       " 'sigma',\n",
       " '1',\n",
       " 'sigma',\n",
       " '7']"
      ]
     },
     "execution_count": 42,
     "metadata": {},
     "output_type": "execute_result"
    }
   ],
   "source": [
    "tree()"
   ]
  },
  {
   "cell_type": "code",
   "execution_count": 58,
   "metadata": {},
   "outputs": [],
   "source": [
    "# Python Program to convert prefix to Infix\n",
    "def prefixToInfix(prefix):\n",
    "    stack = []\n",
    "     \n",
    "    # read prefix in reverse order\n",
    "    i = len(prefix) - 1\n",
    "    while i >= 0:\n",
    "        if  isOperator(prefix[i]):\n",
    "            # symbol is operator\n",
    "            str = \"(\" + stack.pop() + prefix[i] + stack.pop() + \")\"\n",
    "            stack.append(str)\n",
    "            i -= 1\n",
    "        elif isFunction(prefix[i]):\n",
    "            # symbol is function\n",
    "            num_arg = functions[prefix[i]]\n",
    "            arg = [stack.pop() for i in range(num_arg)]\n",
    "            str = prefix[i] + \"(\" + ','.join(arg) +  \")\"\n",
    "            stack.append(str)\n",
    "            i -= 1\n",
    "        else:\n",
    "            # symbol is operand\n",
    "            stack.append(prefix[i])\n",
    "            i -= 1\n",
    "            \n",
    "     \n",
    "    return stack.pop()\n"
   ]
  },
  {
   "cell_type": "code",
   "execution_count": 35,
   "metadata": {},
   "outputs": [],
   "source": [
    "a = ['-', '9', '/', '8', 'sigma', 'sigma', '2']"
   ]
  },
  {
   "cell_type": "code",
   "execution_count": 43,
   "metadata": {},
   "outputs": [],
   "source": [
    "b = ['sigma',\n",
    " 'sigma',\n",
    " '*',\n",
    " '*',\n",
    " 'sigma',\n",
    " '+',\n",
    " '4',\n",
    " '0',\n",
    " '/',\n",
    " '*',\n",
    " '8',\n",
    " 'sigma',\n",
    " '8',\n",
    " '9',\n",
    " '*',\n",
    " 'sigma',\n",
    " '1',\n",
    " 'sigma',\n",
    " '7']"
   ]
  },
  {
   "cell_type": "code",
   "execution_count": 61,
   "metadata": {},
   "outputs": [
    {
     "data": {
      "text/plain": [
       "'sigma(sigma(((sigma((4+0))*((8*sigma(8))/9))*(sigma(1)*sigma(7)))))'"
      ]
     },
     "execution_count": 61,
     "metadata": {},
     "output_type": "execute_result"
    }
   ],
   "source": [
    "prefixToInfix(b)"
   ]
  },
  {
   "cell_type": "code",
   "execution_count": null,
   "metadata": {},
   "outputs": [],
   "source": [
    "for _ in range(20):\n",
    "    t = tree()\n",
    "    print(prefixToInfix(t))"
   ]
  },
  {
   "cell_type": "code",
   "execution_count": null,
   "metadata": {},
   "outputs": [],
   "source": [
    "for _ in range(20):\n",
    "    t = tree()\n",
    "    \n",
    "    try:\n",
    "        print(eval(prefixToInfix(t)))\n",
    "    except ZeroDivisionError:\n",
    "        print('Infi')\n",
    "    except MemoryError:\n",
    "        print('Loss memory')\n",
    "    except TypeError:\n",
    "        print('float cannot in to sigma')"
   ]
  },
  {
   "cell_type": "code",
   "execution_count": null,
   "metadata": {},
   "outputs": [],
   "source": [
    "def is_operand(c):\n",
    "    return c in values\n",
    " \n",
    "\n",
    "def evaluate(expression):\n",
    "    stack = []\n",
    " \n",
    "    # iterate over the string in reverse order\n",
    "    for c in expression[::-1]:\n",
    "        # push operand to stack\n",
    "        if is_operand(c):\n",
    "            stack.append(eval(c))\n",
    "        else:\n",
    "            # pop values from stack can calculate the result\n",
    "            # push the result onto the stack again\n",
    "            o1 = stack.pop()\n",
    "            o2 = stack.pop()\n",
    " \n",
    "            if c == '+':\n",
    "                stack.append(o1 + o2)\n",
    " \n",
    "            elif c == '-':\n",
    "                stack.append(o1 - o2)\n",
    " \n",
    "            elif c == '*':\n",
    "                stack.append(o1 * o2)\n",
    " \n",
    "            elif c == '/':\n",
    "                stack.append(o1 / o2)\n",
    " \n",
    "    return stack.pop()"
   ]
  },
  {
   "cell_type": "code",
   "execution_count": null,
   "metadata": {},
   "outputs": [],
   "source": [
    "vars()['A'] = 0"
   ]
  },
  {
   "cell_type": "code",
   "execution_count": null,
   "metadata": {},
   "outputs": [],
   "source": [
    "A"
   ]
  },
  {
   "cell_type": "code",
   "execution_count": null,
   "metadata": {},
   "outputs": [],
   "source": [
    "functions = {'sigma':1}"
   ]
  },
  {
   "cell_type": "code",
   "execution_count": null,
   "metadata": {},
   "outputs": [],
   "source": [
    "functions['sigma']"
   ]
  },
  {
   "cell_type": "code",
   "execution_count": null,
   "metadata": {},
   "outputs": [],
   "source": [
    "'sigma' in functions"
   ]
  },
  {
   "cell_type": "code",
   "execution_count": null,
   "metadata": {},
   "outputs": [],
   "source": [
    "list(functions.keys())"
   ]
  },
  {
   "cell_type": "code",
   "execution_count": null,
   "metadata": {},
   "outputs": [],
   "source": [
    "for i in range(1):\n",
    "    print(i)"
   ]
  },
  {
   "cell_type": "code",
   "execution_count": null,
   "metadata": {},
   "outputs": [],
   "source": [
    "def p():\n",
    "    print('A')\n",
    "    return 1"
   ]
  },
  {
   "cell_type": "code",
   "execution_count": null,
   "metadata": {},
   "outputs": [],
   "source": [
    "[p() for i in range(10)]"
   ]
  },
  {
   "cell_type": "code",
   "execution_count": 52,
   "metadata": {},
   "outputs": [
    {
     "data": {
      "text/plain": [
       "[5]"
      ]
     },
     "execution_count": 52,
     "metadata": {},
     "output_type": "execute_result"
    }
   ],
   "source": [
    "k = [1,2,3,4,5]\n",
    "[k.pop() for i in range(1)]"
   ]
  },
  {
   "cell_type": "code",
   "execution_count": 54,
   "metadata": {},
   "outputs": [
    {
     "data": {
      "text/plain": [
       "8"
      ]
     },
     "execution_count": 54,
     "metadata": {},
     "output_type": "execute_result"
    }
   ],
   "source": [
    "sigma(10,)"
   ]
  },
  {
   "cell_type": "code",
   "execution_count": 57,
   "metadata": {},
   "outputs": [
    {
     "data": {
      "text/plain": [
       "'1,2'"
      ]
     },
     "execution_count": 57,
     "metadata": {},
     "output_type": "execute_result"
    }
   ],
   "source": [
    "','.join(['1','2'])"
   ]
  },
  {
   "cell_type": "code",
   "execution_count": null,
   "metadata": {},
   "outputs": [],
   "source": []
  }
 ],
 "metadata": {
  "kernelspec": {
   "display_name": "Python 3",
   "language": "python",
   "name": "python3"
  },
  "language_info": {
   "codemirror_mode": {
    "name": "ipython",
    "version": 3
   },
   "file_extension": ".py",
   "mimetype": "text/x-python",
   "name": "python",
   "nbconvert_exporter": "python",
   "pygments_lexer": "ipython3",
   "version": "3.7.4"
  }
 },
 "nbformat": 4,
 "nbformat_minor": 4
}
