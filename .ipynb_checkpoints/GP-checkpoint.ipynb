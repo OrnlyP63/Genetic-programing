{
 "cells": [
  {
   "cell_type": "code",
   "execution_count": 108,
   "metadata": {},
   "outputs": [],
   "source": [
    "import random\n",
    "import math"
   ]
  },
  {
   "cell_type": "code",
   "execution_count": 109,
   "metadata": {},
   "outputs": [],
   "source": [
    "operators = '+-*/'\n",
    "values = '0123456789'\n",
    "functions = ['sigma']"
   ]
  },
  {
   "cell_type": "code",
   "execution_count": 110,
   "metadata": {},
   "outputs": [],
   "source": [
    "def sigma(num):\n",
    "    return sum([i for i in range(1, num) if num % i == 0])"
   ]
  },
  {
   "cell_type": "code",
   "execution_count": 111,
   "metadata": {},
   "outputs": [
    {
     "data": {
      "text/plain": [
       "6"
      ]
     },
     "execution_count": 111,
     "metadata": {},
     "output_type": "execute_result"
    }
   ],
   "source": [
    "S(6)"
   ]
  },
  {
   "cell_type": "code",
   "execution_count": 112,
   "metadata": {},
   "outputs": [],
   "source": [
    "def isOperator(val):\n",
    "    return val in operators\n",
    "\n",
    "def isFunction(val):\n",
    "    return val in functions"
   ]
  },
  {
   "cell_type": "code",
   "execution_count": 113,
   "metadata": {},
   "outputs": [
    {
     "data": {
      "text/plain": [
       "False"
      ]
     },
     "execution_count": 113,
     "metadata": {},
     "output_type": "execute_result"
    }
   ],
   "source": [
    "isFunction('S')"
   ]
  },
  {
   "cell_type": "code",
   "execution_count": 114,
   "metadata": {},
   "outputs": [
    {
     "data": {
      "text/plain": [
       "False"
      ]
     },
     "execution_count": 114,
     "metadata": {},
     "output_type": "execute_result"
    }
   ],
   "source": [
    "isFunction('5')"
   ]
  },
  {
   "cell_type": "code",
   "execution_count": 115,
   "metadata": {},
   "outputs": [],
   "source": [
    "def getNode():\n",
    "    a = math.floor(random.random() * 2)\n",
    "    b = math.floor(random.random() * 2)\n",
    "    if a:\n",
    "        if b:\n",
    "            return operators[math.floor(random.random()*len(operators))]\n",
    "        else: \n",
    "            return functions[0]\n",
    "    else:\n",
    "        return values[math.floor(random.random()*len(values))]"
   ]
  },
  {
   "cell_type": "code",
   "execution_count": 116,
   "metadata": {},
   "outputs": [],
   "source": [
    "def tree():\n",
    "    result = []\n",
    "    \n",
    "    node = getNode()\n",
    "    result.append(node)\n",
    "    \n",
    "    if isOperator(node):\n",
    "        left = tree()\n",
    "        right = tree()\n",
    "        \n",
    "        result.extend(left)\n",
    "        result.extend(right)\n",
    "        \n",
    "    elif isFunction(node):\n",
    "        arg = tree()\n",
    "        result.extend(arg)\n",
    "        \n",
    "    return result"
   ]
  },
  {
   "cell_type": "code",
   "execution_count": 117,
   "metadata": {},
   "outputs": [
    {
     "data": {
      "text/plain": [
       "['0']"
      ]
     },
     "execution_count": 117,
     "metadata": {},
     "output_type": "execute_result"
    }
   ],
   "source": [
    "tree()"
   ]
  },
  {
   "cell_type": "code",
   "execution_count": 118,
   "metadata": {},
   "outputs": [],
   "source": [
    "# Python Program to convert prefix to Infix\n",
    "def prefixToInfix(prefix):\n",
    "    stack = []\n",
    "     \n",
    "    # read prefix in reverse order\n",
    "    i = len(prefix) - 1\n",
    "    while i >= 0:\n",
    "        if  isOperator(prefix[i]):\n",
    "            # symbol is operator\n",
    "            str = \"(\" + stack.pop() + prefix[i] + stack.pop() + \")\"\n",
    "            stack.append(str)\n",
    "            i -= 1\n",
    "        elif isFunction(prefix[i]):\n",
    "            # symbol is function\n",
    "            str = prefix[i] + \"(\" + stack.pop() +  \")\"\n",
    "            stack.append(str)\n",
    "            i -= 1\n",
    "        else:\n",
    "            # symbol is operand\n",
    "            stack.append(prefix[i])\n",
    "            i -= 1\n",
    "            \n",
    "     \n",
    "    return stack.pop()\n"
   ]
  },
  {
   "cell_type": "code",
   "execution_count": 121,
   "metadata": {},
   "outputs": [],
   "source": [
    "a = ['-', '9', '/', '8', 'sigma', 'sigma', '2']"
   ]
  },
  {
   "cell_type": "code",
   "execution_count": 122,
   "metadata": {},
   "outputs": [
    {
     "data": {
      "text/plain": [
       "'(9-(8/sigma(sigma(2))))'"
      ]
     },
     "execution_count": 122,
     "metadata": {},
     "output_type": "execute_result"
    }
   ],
   "source": [
    "prefixToInfix(a)"
   ]
  },
  {
   "cell_type": "code",
   "execution_count": 105,
   "metadata": {},
   "outputs": [
    {
     "name": "stdout",
     "output_type": "stream",
     "text": [
      "S((5-2))\n",
      "2\n",
      "((7*3)+9)\n",
      "S(0)\n",
      "S(S(((((S(S(4))+2)+S(3))/(S(6)-8))*1)))\n",
      "5\n",
      "4\n",
      "(9*(7*((((S(0)+(0*S(8)))-S(1))+0)*S(3))))\n",
      "(0*((9*S((S(S(6))+((5/S(7))*S(6)))))-(S(4)+((S(1)*S(5))/2))))\n",
      "3\n",
      "5\n",
      "5\n",
      "6\n",
      "5\n",
      "6\n",
      "0\n",
      "3\n",
      "2\n",
      "5\n",
      "8\n"
     ]
    }
   ],
   "source": [
    "for _ in range(20):\n",
    "    t = tree()\n",
    "    print(prefixToInfix(t))"
   ]
  },
  {
   "cell_type": "code",
   "execution_count": 104,
   "metadata": {},
   "outputs": [
    {
     "name": "stdout",
     "output_type": "stream",
     "text": [
      "float cannot in to sigma\n",
      "6.0\n",
      "3\n",
      "6\n",
      "9\n",
      "0\n",
      "0\n",
      "2\n",
      "-1\n",
      "1\n",
      "7\n",
      "4\n",
      "6\n",
      "0\n",
      "float cannot in to sigma\n",
      "9\n",
      "0\n",
      "3\n",
      "3\n",
      "8\n"
     ]
    }
   ],
   "source": [
    "for _ in range(20):\n",
    "    t = tree()\n",
    "    s = ''.join(t)\n",
    "    try:\n",
    "        print(eval(prefixToInfix(s)))\n",
    "    except ZeroDivisionError:\n",
    "        print('Infi')\n",
    "    except MemoryError:\n",
    "        print('Loss memory')\n",
    "    except TypeError:\n",
    "        print('float cannot in to sigma')"
   ]
  },
  {
   "cell_type": "code",
   "execution_count": 21,
   "metadata": {},
   "outputs": [],
   "source": [
    "def is_operand(c):\n",
    "    return c in values\n",
    " \n",
    "\n",
    "def evaluate(expression):\n",
    "    stack = []\n",
    " \n",
    "    # iterate over the string in reverse order\n",
    "    for c in expression[::-1]:\n",
    "        # push operand to stack\n",
    "        if is_operand(c):\n",
    "            stack.append(eval(c))\n",
    "        else:\n",
    "            # pop values from stack can calculate the result\n",
    "            # push the result onto the stack again\n",
    "            o1 = stack.pop()\n",
    "            o2 = stack.pop()\n",
    " \n",
    "            if c == '+':\n",
    "                stack.append(o1 + o2)\n",
    " \n",
    "            elif c == '-':\n",
    "                stack.append(o1 - o2)\n",
    " \n",
    "            elif c == '*':\n",
    "                stack.append(o1 * o2)\n",
    " \n",
    "            elif c == '/':\n",
    "                stack.append(o1 / o2)\n",
    " \n",
    "    return stack.pop()"
   ]
  },
  {
   "cell_type": "code",
   "execution_count": 134,
   "metadata": {},
   "outputs": [],
   "source": [
    "vars()['A'] = 0"
   ]
  },
  {
   "cell_type": "code",
   "execution_count": 135,
   "metadata": {},
   "outputs": [
    {
     "data": {
      "text/plain": [
       "0"
      ]
     },
     "execution_count": 135,
     "metadata": {},
     "output_type": "execute_result"
    }
   ],
   "source": [
    "A"
   ]
  },
  {
   "cell_type": "code",
   "execution_count": null,
   "metadata": {},
   "outputs": [],
   "source": []
  }
 ],
 "metadata": {
  "kernelspec": {
   "display_name": "Python 3",
   "language": "python",
   "name": "python3"
  },
  "language_info": {
   "codemirror_mode": {
    "name": "ipython",
    "version": 3
   },
   "file_extension": ".py",
   "mimetype": "text/x-python",
   "name": "python",
   "nbconvert_exporter": "python",
   "pygments_lexer": "ipython3",
   "version": "3.7.4"
  }
 },
 "nbformat": 4,
 "nbformat_minor": 4
}
