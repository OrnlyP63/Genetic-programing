{
 "cells": [
  {
   "cell_type": "code",
   "execution_count": 1,
   "metadata": {},
   "outputs": [],
   "source": [
    "import random\n",
    "import math"
   ]
  },
  {
   "cell_type": "code",
   "execution_count": 2,
   "metadata": {},
   "outputs": [],
   "source": [
    "operators = '+-*/'\n",
    "values = '0123456789'\n",
    "functions = {'sigma':1, 'delta':2, '+':2, '-':2, '*':2, '/':2}"
   ]
  },
  {
   "cell_type": "code",
   "execution_count": 3,
   "metadata": {},
   "outputs": [],
   "source": [
    "def sigma(num):\n",
    "    return sum([i for i in range(1, num) if num % i == 0])"
   ]
  },
  {
   "cell_type": "code",
   "execution_count": 4,
   "metadata": {},
   "outputs": [],
   "source": [
    "def delta(n,m):\n",
    "    return n**2 + m**2"
   ]
  },
  {
   "cell_type": "code",
   "execution_count": 5,
   "metadata": {},
   "outputs": [
    {
     "data": {
      "text/plain": [
       "6"
      ]
     },
     "execution_count": 5,
     "metadata": {},
     "output_type": "execute_result"
    }
   ],
   "source": [
    "sigma(6)"
   ]
  },
  {
   "cell_type": "code",
   "execution_count": 6,
   "metadata": {},
   "outputs": [
    {
     "data": {
      "text/plain": [
       "104"
      ]
     },
     "execution_count": 6,
     "metadata": {},
     "output_type": "execute_result"
    }
   ],
   "source": [
    "delta(10,2)"
   ]
  },
  {
   "cell_type": "code",
   "execution_count": 7,
   "metadata": {},
   "outputs": [
    {
     "data": {
      "text/plain": [
       "'delta'"
      ]
     },
     "execution_count": 7,
     "metadata": {},
     "output_type": "execute_result"
    }
   ],
   "source": [
    "delta.__str__().split()[1]"
   ]
  },
  {
   "cell_type": "code",
   "execution_count": 8,
   "metadata": {},
   "outputs": [],
   "source": [
    "def isOperator(val):\n",
    "    return val in operators\n",
    "\n",
    "def isFunction(val):\n",
    "    return val in functions"
   ]
  },
  {
   "cell_type": "code",
   "execution_count": 9,
   "metadata": {},
   "outputs": [
    {
     "data": {
      "text/plain": [
       "True"
      ]
     },
     "execution_count": 9,
     "metadata": {},
     "output_type": "execute_result"
    }
   ],
   "source": [
    "isFunction('sigma')"
   ]
  },
  {
   "cell_type": "code",
   "execution_count": 10,
   "metadata": {},
   "outputs": [
    {
     "data": {
      "text/plain": [
       "False"
      ]
     },
     "execution_count": 10,
     "metadata": {},
     "output_type": "execute_result"
    }
   ],
   "source": [
    "isFunction('5')"
   ]
  },
  {
   "cell_type": "code",
   "execution_count": 11,
   "metadata": {},
   "outputs": [],
   "source": [
    "def getNode():\n",
    "    a = math.floor(random.random() * 2)\n",
    "    b = math.floor(random.random() * 2)\n",
    "    if a:\n",
    "        if b:\n",
    "            return operators[math.floor(random.random() * len(operators))]\n",
    "        else: \n",
    "            return list(functions.keys())[math.floor(random.random() * len(functions))]\n",
    "    else:\n",
    "        return values[math.floor(random.random() * len(values))]"
   ]
  },
  {
   "cell_type": "code",
   "execution_count": 12,
   "metadata": {},
   "outputs": [],
   "source": [
    "def tree():\n",
    "    result = []\n",
    "    \n",
    "    node = getNode()\n",
    "    result.append(node)\n",
    "    \n",
    "    if isOperator(node):\n",
    "        left = tree()\n",
    "        right = tree()\n",
    "        \n",
    "        result.extend(left)\n",
    "        result.extend(right)\n",
    "        \n",
    "    elif isFunction(node):\n",
    "        num_arg = functions[node]\n",
    "        arg = [tree() for _ in range(num_arg)]\n",
    "        \n",
    "#         for i in range(num_arg):\n",
    "#             vars()[f'arg_{i}'] = tree()\n",
    "        for a in arg:\n",
    "            result.extend(a)\n",
    "        \n",
    "    return result"
   ]
  },
  {
   "cell_type": "code",
   "execution_count": 13,
   "metadata": {},
   "outputs": [
    {
     "name": "stdout",
     "output_type": "stream",
     "text": [
      "['/', '-', '/', '6', '/', '+', '5', '4', '*', '8', '2', '*', '-', '2', '4', '4', '/', '7', '6']\n"
     ]
    }
   ],
   "source": [
    "while True:\n",
    "    t = tree()\n",
    "    if len(t)>5:\n",
    "        print(t)\n",
    "        break"
   ]
  },
  {
   "cell_type": "code",
   "execution_count": 14,
   "metadata": {},
   "outputs": [],
   "source": [
    "# Python Program to convert prefix to Infix\n",
    "def prefixToInfix(prefix):\n",
    "    stack = []\n",
    "     \n",
    "    # read prefix in reverse order\n",
    "    i = len(prefix) - 1\n",
    "    while i >= 0:\n",
    "        if  isOperator(prefix[i]):\n",
    "            # symbol is operator\n",
    "            str = \"(\" + stack.pop() + prefix[i] + stack.pop() + \")\"\n",
    "            stack.append(str)\n",
    "            i -= 1\n",
    "        elif isFunction(prefix[i]):\n",
    "            # symbol is function\n",
    "            num_arg = functions[prefix[i]]\n",
    "            arg = [stack.pop() for i in range(num_arg)]\n",
    "            str = prefix[i] + \"(\" + ','.join(arg) +  \")\"\n",
    "            stack.append(str)\n",
    "            i -= 1\n",
    "        else:\n",
    "            # symbol is operand\n",
    "            stack.append(prefix[i])\n",
    "            i -= 1\n",
    "            \n",
    "     \n",
    "    return stack.pop()\n"
   ]
  },
  {
   "cell_type": "code",
   "execution_count": 15,
   "metadata": {},
   "outputs": [],
   "source": [
    "a = ['-', '9', '/', '8', 'sigma', 'sigma', '2']"
   ]
  },
  {
   "cell_type": "code",
   "execution_count": 16,
   "metadata": {},
   "outputs": [],
   "source": [
    "b = ['/', '3', '*', 'delta', '+', 'sigma', '+', '5', 'delta', '*', '3', 'delta', '-', '-', '9', 'delta', '-', '6', '7', '3', '5', '-', '+', 'delta', 'delta', '3', '-', '4', '5', '1', '4', '7', 'delta', '1', '5', '-', '4', '4', '*', '9', 'delta', '1', 'delta', '8', 'delta', 'delta', '6', '+', '2', 'delta', '/', 'sigma', 'delta', '1', '3', '8', '5', 'delta', '5', 'sigma', '2', 'delta', '4', 'delta', '4', '5']"
   ]
  },
  {
   "cell_type": "code",
   "execution_count": 17,
   "metadata": {},
   "outputs": [
    {
     "data": {
      "text/plain": [
       "'(3/(delta((sigma((5+delta((3*delta(((9-delta((6-7),3))-5),((delta(delta(3,(4-5)),1)+4)-7))),delta(1,5))))+(4-4)),(9*delta(1,delta(8,delta(delta(6,(2+delta((sigma(delta(1,3))/8),5))),delta(5,sigma(2)))))))*delta(4,delta(4,5))))'"
      ]
     },
     "execution_count": 17,
     "metadata": {},
     "output_type": "execute_result"
    }
   ],
   "source": [
    "prefixToInfix(b)"
   ]
  },
  {
   "cell_type": "code",
   "execution_count": 18,
   "metadata": {},
   "outputs": [
    {
     "name": "stdout",
     "output_type": "stream",
     "text": [
      "(8+8)\n",
      "8\n",
      "(7*6)\n",
      "4\n",
      "((1*(5*6))+((2-(1/sigma(7)))+5))\n",
      "3\n",
      "0\n",
      "(2-6)\n",
      "7\n",
      "9\n",
      "4\n",
      "(0+2)\n",
      "3\n",
      "3\n",
      "3\n",
      "7\n",
      "9\n",
      "(5/1)\n",
      "(((4-7)-((1+5)+((0*3)*(9-5))))*3)\n",
      "4\n"
     ]
    }
   ],
   "source": [
    "for _ in range(20):\n",
    "    t = tree()\n",
    "    print(prefixToInfix(t))"
   ]
  },
  {
   "cell_type": "code",
   "execution_count": 19,
   "metadata": {},
   "outputs": [
    {
     "name": "stdout",
     "output_type": "stream",
     "text": [
      "-48.0\n",
      "6\n",
      "float cannot in to sigma\n",
      "8\n",
      "6\n",
      "Infi\n",
      "float cannot in to sigma\n",
      "9\n",
      "Infi\n",
      "2\n",
      "3.75\n",
      "0\n",
      "7\n",
      "8\n",
      "2\n",
      "8\n",
      "1\n",
      "Infi\n",
      "6\n",
      "65\n"
     ]
    }
   ],
   "source": [
    "for _ in range(20):\n",
    "    t = tree()\n",
    "    \n",
    "    try:\n",
    "        print(eval(prefixToInfix(t)))\n",
    "    except ZeroDivisionError:\n",
    "        print('Infi')\n",
    "    except MemoryError:\n",
    "        print('Loss memory')\n",
    "    except TypeError:\n",
    "        print('float cannot in to sigma')"
   ]
  },
  {
   "cell_type": "code",
   "execution_count": 20,
   "metadata": {},
   "outputs": [],
   "source": [
    "vars()['A'] = 0"
   ]
  },
  {
   "cell_type": "code",
   "execution_count": 21,
   "metadata": {},
   "outputs": [
    {
     "data": {
      "text/plain": [
       "0"
      ]
     },
     "execution_count": 21,
     "metadata": {},
     "output_type": "execute_result"
    }
   ],
   "source": [
    "A"
   ]
  },
  {
   "cell_type": "code",
   "execution_count": 22,
   "metadata": {},
   "outputs": [],
   "source": [
    "def a(b,c,d):\n",
    "    pass"
   ]
  },
  {
   "cell_type": "code",
   "execution_count": 23,
   "metadata": {},
   "outputs": [
    {
     "data": {
      "text/plain": [
       "3"
      ]
     },
     "execution_count": 23,
     "metadata": {},
     "output_type": "execute_result"
    }
   ],
   "source": [
    "from inspect import getfullargspec\n",
    "len(getfullargspec(a)[0])"
   ]
  },
  {
   "cell_type": "code",
   "execution_count": 24,
   "metadata": {},
   "outputs": [
    {
     "data": {
      "text/plain": [
       "'a'"
      ]
     },
     "execution_count": 24,
     "metadata": {},
     "output_type": "execute_result"
    }
   ],
   "source": [
    "a.__str__().split()[1]"
   ]
  },
  {
   "cell_type": "code",
   "execution_count": 25,
   "metadata": {},
   "outputs": [],
   "source": [
    "def get_number_of_args(func):\n",
    "    return len(func.__code__.co_varnames)"
   ]
  },
  {
   "cell_type": "code",
   "execution_count": 26,
   "metadata": {},
   "outputs": [
    {
     "name": "stdout",
     "output_type": "stream",
     "text": [
      "2\n"
     ]
    }
   ],
   "source": [
    "def g(a, b): pass\n",
    "print (get_number_of_args(g))   # 2"
   ]
  },
  {
   "cell_type": "code",
   "execution_count": 27,
   "metadata": {},
   "outputs": [
    {
     "data": {
      "text/plain": [
       "'2'"
      ]
     },
     "execution_count": 27,
     "metadata": {},
     "output_type": "execute_result"
    }
   ],
   "source": [
    "parts = ['-', '+', '*','sigma','5','6','2','*','3','sigma','2'][10:]\n",
    "prefixToInfix(parts)"
   ]
  },
  {
   "cell_type": "code",
   "execution_count": 28,
   "metadata": {},
   "outputs": [],
   "source": [
    "def subPrefix(prefix,index):\n",
    "    stack = []\n",
    "    prefix = prefix[index:]\n",
    "    # read prefix in reverse order\n",
    "    i = len(prefix) - 1\n",
    "    while i >= 0:\n",
    "        if  isOperator(prefix[i]):\n",
    "            # symbol is operator\n",
    "            str = prefix[i] + ','+ stack.pop() + ','+ stack.pop()\n",
    "            stack.append(str)\n",
    "            i -= 1\n",
    "        elif isFunction(prefix[i]):\n",
    "            # symbol is function\n",
    "            num_arg = functions[prefix[i]]\n",
    "            arg = [stack.pop() for i in range(num_arg)]\n",
    "            str = prefix[i]  + ',' + ','.join(arg)\n",
    "            stack.append(str)\n",
    "            i -= 1\n",
    "        else:\n",
    "            # symbol is operand\n",
    "            stack.append(prefix[i])\n",
    "            i -= 1\n",
    "            \n",
    "     \n",
    "    return stack.pop().split(',')"
   ]
  },
  {
   "cell_type": "code",
   "execution_count": 29,
   "metadata": {},
   "outputs": [
    {
     "data": {
      "text/plain": [
       "['+', '*', 'sigma', '5', '6', '2']"
      ]
     },
     "execution_count": 29,
     "metadata": {},
     "output_type": "execute_result"
    }
   ],
   "source": [
    "parts = ['-', '+', '*','sigma','5','6','2','*','3','sigma','2']\n",
    "subPrefix(parts,1)"
   ]
  },
  {
   "cell_type": "code",
   "execution_count": 30,
   "metadata": {},
   "outputs": [
    {
     "data": {
      "text/plain": [
       "['-', '+', '*', 'sigma', '5', '6', '2', '*', '3', 'sigma', '2']"
      ]
     },
     "execution_count": 30,
     "metadata": {},
     "output_type": "execute_result"
    }
   ],
   "source": [
    "parts[0:]"
   ]
  },
  {
   "cell_type": "code",
   "execution_count": 31,
   "metadata": {},
   "outputs": [
    {
     "data": {
      "text/plain": [
       "[]"
      ]
     },
     "execution_count": 31,
     "metadata": {},
     "output_type": "execute_result"
    }
   ],
   "source": [
    "parts[:0]"
   ]
  },
  {
   "cell_type": "code",
   "execution_count": 32,
   "metadata": {},
   "outputs": [],
   "source": [
    "def replaceAtIndex(inp, index, search, replace):\n",
    "    return inp[:index] + replace + inp[index + len(search):]"
   ]
  },
  {
   "cell_type": "code",
   "execution_count": 33,
   "metadata": {},
   "outputs": [],
   "source": [
    "def crossOver(parent1, parent2):\n",
    "\n",
    " \n",
    "    index1 = math.floor(random.random() * len(parent1))\n",
    "    index2 = math.floor(random.random() * len(parent2))\n",
    "\n",
    "    subtree1 = subPrefix(parent1, index1)\n",
    "    subtree2 = subPrefix(parent2, index2)\n",
    "\n",
    "    child1 = replaceAtIndex(parent1, index1, subtree1, subtree2);\n",
    "    child2 = replaceAtIndex(parent2, index2, subtree2, subtree1);\n",
    "    \n",
    "    return child1, child2"
   ]
  },
  {
   "cell_type": "code",
   "execution_count": 34,
   "metadata": {},
   "outputs": [],
   "source": [
    "a = ['-', '9', '/', '8', 'sigma', 'sigma', '2']"
   ]
  },
  {
   "cell_type": "code",
   "execution_count": 35,
   "metadata": {},
   "outputs": [],
   "source": [
    "b = ['/', '3', '*', 'delta', '+', 'sigma', '+', '5', 'delta', '*', '3', 'delta', '-', '-', '9', 'delta', '-', '6', '7', '3', '5', '-', '+', 'delta', 'delta', '3', '-', '4', '5', '1', '4', '7', 'delta', '1', '5', '-', '4', '4', '*', '9', 'delta', '1', 'delta', '8', 'delta', 'delta', '6', '+', '2', 'delta', '/', 'sigma', 'delta', '1', '3', '8', '5', 'delta', '5', 'sigma', '2', 'delta', '4', 'delta', '4', '5']"
   ]
  },
  {
   "cell_type": "code",
   "execution_count": 36,
   "metadata": {},
   "outputs": [],
   "source": [
    "g = crossOver(a,b)"
   ]
  },
  {
   "cell_type": "code",
   "execution_count": 37,
   "metadata": {},
   "outputs": [
    {
     "name": "stdout",
     "output_type": "stream",
     "text": [
      "['-', '9', '/', '8', 'sigma', 'sigma', 'delta', '-', '-', '9', 'delta', '-', '6', '7', '3', '5', '-', '+', 'delta', 'delta', '3', '-', '4', '5', '1', '4', '7']\n"
     ]
    }
   ],
   "source": [
    "print(g[0])"
   ]
  },
  {
   "cell_type": "code",
   "execution_count": 38,
   "metadata": {},
   "outputs": [
    {
     "name": "stdout",
     "output_type": "stream",
     "text": [
      "['/', '3', '*', 'delta', '+', 'sigma', '+', '5', 'delta', '*', '3', '2', 'delta', '1', '5', '-', '4', '4', '*', '9', 'delta', '1', 'delta', '8', 'delta', 'delta', '6', '+', '2', 'delta', '/', 'sigma', 'delta', '1', '3', '8', '5', 'delta', '5', 'sigma', '2', 'delta', '4', 'delta', '4', '5']\n"
     ]
    }
   ],
   "source": [
    "print(g[1])"
   ]
  },
  {
   "cell_type": "code",
   "execution_count": 39,
   "metadata": {},
   "outputs": [],
   "source": [
    "def mutate(entity):\n",
    "    res = entity\n",
    "    index = math.floor(random.random() * len(entity))\n",
    "    val = entity[index]\n",
    "    \n",
    "    if isFunction(val):\n",
    "        num_arg = functions[val]\n",
    "        op = [k for k, v in functions.items() if v==num_arg]\n",
    "        r = math.floor(random.random() * len(op))\n",
    "        res[index] = op[r]\n",
    "    else:\n",
    "        r = math.floor(random.random() * len(values))\n",
    "        res[index] = values[r]\n",
    "        \n",
    "    return res"
   ]
  },
  {
   "cell_type": "code",
   "execution_count": 40,
   "metadata": {},
   "outputs": [
    {
     "data": {
      "text/plain": [
       "['-', '9', '/', '8', 'sigma', 'sigma', '2']"
      ]
     },
     "execution_count": 40,
     "metadata": {},
     "output_type": "execute_result"
    }
   ],
   "source": [
    "mutate(a)"
   ]
  },
  {
   "cell_type": "code",
   "execution_count": 41,
   "metadata": {},
   "outputs": [
    {
     "data": {
      "text/plain": [
       "['-', '9', '/', '8', 'sigma', 'sigma', '2']"
      ]
     },
     "execution_count": 41,
     "metadata": {},
     "output_type": "execute_result"
    }
   ],
   "source": [
    "a"
   ]
  },
  {
   "cell_type": "code",
   "execution_count": 42,
   "metadata": {},
   "outputs": [],
   "source": [
    "def evaluatePrefix(entity):\n",
    "    try:\n",
    "        return eval(prefixToInfix(entity))\n",
    "    except:\n",
    "        return 'nan'"
   ]
  },
  {
   "cell_type": "code",
   "execution_count": 43,
   "metadata": {},
   "outputs": [],
   "source": [
    "def fitness(entity,targetValue):\n",
    "    fitness = evaluatePrefix(entity)\n",
    "    if fitness != 'nan':\n",
    "        return targetValue - abs(targetValue - fitness)\n",
    "    else:\n",
    "        return -999999"
   ]
  },
  {
   "cell_type": "code",
   "execution_count": 44,
   "metadata": {},
   "outputs": [
    {
     "data": {
      "text/plain": [
       "401"
      ]
     },
     "execution_count": 44,
     "metadata": {},
     "output_type": "execute_result"
    }
   ],
   "source": [
    "fitness(['+','1','400'], 500)"
   ]
  },
  {
   "cell_type": "code",
   "execution_count": 45,
   "metadata": {},
   "outputs": [],
   "source": [
    "def fight(pl1, pl2, tar):\n",
    "    if fitness(pl1,tar)>fitness(pl2,tar):\n",
    "        return pl1\n",
    "    else:\n",
    "        return pl2"
   ]
  },
  {
   "cell_type": "code",
   "execution_count": 46,
   "metadata": {},
   "outputs": [],
   "source": [
    "import numpy as np"
   ]
  },
  {
   "cell_type": "code",
   "execution_count": 55,
   "metadata": {},
   "outputs": [
    {
     "name": "stdout",
     "output_type": "stream",
     "text": [
      "----------------------------------------------------------------------------------------------------\n",
      "[['delta', '*', '-', '3', '*', '/', '-', '-', '9', '3', '2', '-', '*', '*', 'sigma', '+', '1', '*', '1', '0', '2', '*', '-', '0', '*', '*', '4', '0', '-', '0', '8', 'sigma', '*', 'delta', '3', '3', '6', '-', '-', '8', '2', '2', '-', '8', '+', '8', '*', '0', '4', '3', '5'], 106.0]\n",
      "----------------------------------------------------------------------------------------------------\n",
      "[['*', '*', '3', '6', '7'], 120]\n",
      "----------------------------------------------------------------------------------------------------\n",
      "[['*', '*', '3', '6', '7'], 120]\n",
      "----------------------------------------------------------------------------------------------------\n",
      "[['+', '*', '-', '*', '1', 'delta', '8', '7', '3', '1', '+', '5', '8'], 123]\n",
      "====================================================================================================\n",
      "((((1*delta(8,7))-3)*1)+(5+8)) = 123\n"
     ]
    }
   ],
   "source": [
    "n_iter = 50\n",
    "n_sel = 30\n",
    "n_xover = 70\n",
    "p_mutate = 0.2\n",
    "target = 123\n",
    "n_pop = n_sel + n_xover\n",
    "pop_list = [tree() for _ in range(n_pop)]\n",
    "\n",
    "i=0\n",
    "while i<=n_iter:\n",
    "    i+=1\n",
    "    pop_eval = [fitness(p,target) for p in pop_list]\n",
    "    generation = sorted([[ls,ev] for ls, ev in zip(pop_list,pop_eval)],key=lambda x: x[1],reverse=True)\n",
    "    \n",
    "    survivor = [x[0] for x in generation]\n",
    "    new_gen = survivor[:n_sel]\n",
    "    \n",
    "    for _ in range(n_sel, n_pop, 2):\n",
    "        index1,index2,index3,index4 = [random.randint(0, n_sel-1) for _ in range(4)]\n",
    "        \n",
    "        parent1 = fight(new_gen[index1], new_gen[index2], target)\n",
    "        parent2 = fight(new_gen[index3], new_gen[index4], target)\n",
    "\n",
    "        offsprint1,offsprint2 = crossOver(parent1, parent2)\n",
    "        \n",
    "        if random.uniform(0,1)<p_mutate:\n",
    "            offsprint1 = mutate(offsprint1)\n",
    "            \n",
    "        new_gen.append(offsprint1)\n",
    "        new_gen.append(offsprint2)\n",
    "        \n",
    "    pop_list = new_gen\n",
    "    print('-'*100)\n",
    "    print(generation[0])\n",
    "    if generation[0][1]==target:\n",
    "        print('='*100)\n",
    "        print(f'{prefixToInfix(generation[0][0])} = {target}')\n",
    "        break"
   ]
  },
  {
   "cell_type": "code",
   "execution_count": null,
   "metadata": {},
   "outputs": [],
   "source": []
  }
 ],
 "metadata": {
  "kernelspec": {
   "display_name": "Python 3",
   "language": "python",
   "name": "python3"
  },
  "language_info": {
   "codemirror_mode": {
    "name": "ipython",
    "version": 3
   },
   "file_extension": ".py",
   "mimetype": "text/x-python",
   "name": "python",
   "nbconvert_exporter": "python",
   "pygments_lexer": "ipython3",
   "version": "3.7.4"
  }
 },
 "nbformat": 4,
 "nbformat_minor": 4
}
