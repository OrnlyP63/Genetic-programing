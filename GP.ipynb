{
 "cells": [
  {
   "cell_type": "code",
   "execution_count": 24,
   "metadata": {},
   "outputs": [],
   "source": [
    "import random\n",
    "import math"
   ]
  },
  {
   "cell_type": "code",
   "execution_count": 83,
   "metadata": {},
   "outputs": [],
   "source": [
    "operators = '+-*/'\n",
    "values = '0123456789'\n",
    "functions = {'sigma':1, 'delta':2}"
   ]
  },
  {
   "cell_type": "code",
   "execution_count": 26,
   "metadata": {},
   "outputs": [],
   "source": [
    "def sigma(num):\n",
    "    return sum([i for i in range(1, num) if num % i == 0])"
   ]
  },
  {
   "cell_type": "code",
   "execution_count": 62,
   "metadata": {},
   "outputs": [],
   "source": [
    "def delta(n,m):\n",
    "    return n**m"
   ]
  },
  {
   "cell_type": "code",
   "execution_count": 27,
   "metadata": {},
   "outputs": [
    {
     "data": {
      "text/plain": [
       "6"
      ]
     },
     "execution_count": 27,
     "metadata": {},
     "output_type": "execute_result"
    }
   ],
   "source": [
    "sigma(6)"
   ]
  },
  {
   "cell_type": "code",
   "execution_count": 63,
   "metadata": {},
   "outputs": [
    {
     "data": {
      "text/plain": [
       "100"
      ]
     },
     "execution_count": 63,
     "metadata": {},
     "output_type": "execute_result"
    }
   ],
   "source": [
    "delta(10,2)"
   ]
  },
  {
   "cell_type": "code",
   "execution_count": 77,
   "metadata": {},
   "outputs": [
    {
     "data": {
      "text/plain": [
       "'delta'"
      ]
     },
     "execution_count": 77,
     "metadata": {},
     "output_type": "execute_result"
    }
   ],
   "source": [
    "delta.__str__().split()[1]"
   ]
  },
  {
   "cell_type": "code",
   "execution_count": 28,
   "metadata": {},
   "outputs": [],
   "source": [
    "def isOperator(val):\n",
    "    return val in operators\n",
    "\n",
    "def isFunction(val):\n",
    "    return val in functions"
   ]
  },
  {
   "cell_type": "code",
   "execution_count": 29,
   "metadata": {},
   "outputs": [
    {
     "data": {
      "text/plain": [
       "True"
      ]
     },
     "execution_count": 29,
     "metadata": {},
     "output_type": "execute_result"
    }
   ],
   "source": [
    "isFunction('sigma')"
   ]
  },
  {
   "cell_type": "code",
   "execution_count": 30,
   "metadata": {},
   "outputs": [
    {
     "data": {
      "text/plain": [
       "False"
      ]
     },
     "execution_count": 30,
     "metadata": {},
     "output_type": "execute_result"
    }
   ],
   "source": [
    "isFunction('5')"
   ]
  },
  {
   "cell_type": "code",
   "execution_count": 31,
   "metadata": {},
   "outputs": [],
   "source": [
    "def getNode():\n",
    "    a = math.floor(random.random() * 2)\n",
    "    b = math.floor(random.random() * 2)\n",
    "    if a:\n",
    "        if b:\n",
    "            return operators[math.floor(random.random() * len(operators))]\n",
    "        else: \n",
    "            return list(functions.keys())[math.floor(random.random() * len(functions))]\n",
    "    else:\n",
    "        return values[math.floor(random.random() * len(values))]"
   ]
  },
  {
   "cell_type": "code",
   "execution_count": 128,
   "metadata": {},
   "outputs": [],
   "source": [
    "def tree():\n",
    "    result = []\n",
    "    \n",
    "    node = getNode()\n",
    "    result.append(node)\n",
    "    \n",
    "    if isOperator(node):\n",
    "        left = tree()\n",
    "        right = tree()\n",
    "        \n",
    "        result.extend(left)\n",
    "        result.extend(right)\n",
    "        \n",
    "    elif isFunction(node):\n",
    "        num_arg = functions[node]\n",
    "        arg = [tree() for _ in range(num_arg)]\n",
    "        \n",
    "#         for i in range(num_arg):\n",
    "#             vars()[f'arg_{i}'] = tree()\n",
    "        for a in arg:\n",
    "            result.extend(a)\n",
    "        \n",
    "    return result"
   ]
  },
  {
   "cell_type": "code",
   "execution_count": 134,
   "metadata": {},
   "outputs": [
    {
     "name": "stdout",
     "output_type": "stream",
     "text": [
      "['/', '3', '*', 'delta', '+', 'sigma', '+', '5', 'delta', '*', '3', 'delta', '-', '-', '9', 'delta', '-', '6', '7', '3', '5', '-', '+', 'delta', 'delta', '3', '-', '4', '5', '1', '4', '7', 'delta', '1', '5', '-', '4', '4', '*', '9', 'delta', '1', 'delta', '8', 'delta', 'delta', '6', '+', '2', 'delta', '/', 'sigma', 'delta', '1', '3', '8', '5', 'delta', '5', 'sigma', '2', 'delta', '4', 'delta', '4', '5']\n"
     ]
    }
   ],
   "source": [
    "while True:\n",
    "    t = tree()\n",
    "    if len(t)>5:\n",
    "        print(t)\n",
    "        break"
   ]
  },
  {
   "cell_type": "code",
   "execution_count": 100,
   "metadata": {},
   "outputs": [],
   "source": [
    "# Python Program to convert prefix to Infix\n",
    "def prefixToInfix(prefix):\n",
    "    stack = []\n",
    "     \n",
    "    # read prefix in reverse order\n",
    "    i = len(prefix) - 1\n",
    "    while i >= 0:\n",
    "        if  isOperator(prefix[i]):\n",
    "            # symbol is operator\n",
    "            str = \"(\" + stack.pop() + prefix[i] + stack.pop() + \")\"\n",
    "            stack.append(str)\n",
    "            i -= 1\n",
    "        elif isFunction(prefix[i]):\n",
    "            # symbol is function\n",
    "            num_arg = functions[prefix[i]]\n",
    "            arg = [stack.pop() for i in range(num_arg)]\n",
    "            str = prefix[i] + \"(\" + ','.join(arg) +  \")\"\n",
    "            stack.append(str)\n",
    "            i -= 1\n",
    "        else:\n",
    "            # symbol is operand\n",
    "            stack.append(prefix[i])\n",
    "            i -= 1\n",
    "            \n",
    "     \n",
    "    return stack.pop()\n"
   ]
  },
  {
   "cell_type": "code",
   "execution_count": 35,
   "metadata": {},
   "outputs": [],
   "source": [
    "a = ['-', '9', '/', '8', 'sigma', 'sigma', '2']"
   ]
  },
  {
   "cell_type": "code",
   "execution_count": 135,
   "metadata": {},
   "outputs": [],
   "source": [
    "b = ['/', '3', '*', 'delta', '+', 'sigma', '+', '5', 'delta', '*', '3', 'delta', '-', '-', '9', 'delta', '-', '6', '7', '3', '5', '-', '+', 'delta', 'delta', '3', '-', '4', '5', '1', '4', '7', 'delta', '1', '5', '-', '4', '4', '*', '9', 'delta', '1', 'delta', '8', 'delta', 'delta', '6', '+', '2', 'delta', '/', 'sigma', 'delta', '1', '3', '8', '5', 'delta', '5', 'sigma', '2', 'delta', '4', 'delta', '4', '5']"
   ]
  },
  {
   "cell_type": "code",
   "execution_count": 138,
   "metadata": {},
   "outputs": [
    {
     "data": {
      "text/plain": [
       "'(3/(delta((sigma((5+delta((3*delta(((9-delta((6-7),3))-5),((delta(delta(3,(4-5)),1)+4)-7))),delta(1,5))))+(4-4)),(9*delta(1,delta(8,delta(delta(6,(2+delta((sigma(delta(1,3))/8),5))),delta(5,sigma(2)))))))*delta(4,delta(4,5))))'"
      ]
     },
     "execution_count": 138,
     "metadata": {},
     "output_type": "execute_result"
    }
   ],
   "source": [
    "prefixToInfix(b)"
   ]
  },
  {
   "cell_type": "code",
   "execution_count": 139,
   "metadata": {},
   "outputs": [
    {
     "name": "stdout",
     "output_type": "stream",
     "text": [
      "delta(4,delta(((3*9)+6),(delta((delta(6,4)-0),(1/sigma(0)))-2)))\n",
      "0\n",
      "7\n",
      "4\n",
      "0\n",
      "4\n",
      "7\n",
      "0\n",
      "sigma(9)\n",
      "5\n",
      "0\n",
      "(4-9)\n",
      "((delta(1,delta(4,delta(8,4)))+1)+7)\n",
      "7\n",
      "5\n",
      "3\n",
      "(((sigma((6-5))+(delta(7,delta(sigma(sigma(sigma(0))),6))+(2+2)))*sigma(sigma(6)))/5)\n",
      "5\n",
      "5\n",
      "9\n"
     ]
    }
   ],
   "source": [
    "for _ in range(20):\n",
    "    t = tree()\n",
    "    print(prefixToInfix(t))"
   ]
  },
  {
   "cell_type": "code",
   "execution_count": 140,
   "metadata": {},
   "outputs": [
    {
     "name": "stdout",
     "output_type": "stream",
     "text": [
      "float cannot in to sigma\n",
      "2\n",
      "0.7142857142857143\n",
      "10077696\n",
      "5\n",
      "1\n",
      "6\n",
      "12\n",
      "3.9482220388574776\n",
      "8\n",
      "-15552\n",
      "5\n",
      "1\n",
      "float cannot in to sigma\n",
      "7\n",
      "float cannot in to sigma\n",
      "1\n",
      "16\n",
      "0\n",
      "8\n"
     ]
    }
   ],
   "source": [
    "for _ in range(20):\n",
    "    t = tree()\n",
    "    \n",
    "    try:\n",
    "        print(eval(prefixToInfix(t)))\n",
    "    except ZeroDivisionError:\n",
    "        print('Infi')\n",
    "    except MemoryError:\n",
    "        print('Loss memory')\n",
    "    except TypeError:\n",
    "        print('float cannot in to sigma')"
   ]
  },
  {
   "cell_type": "code",
   "execution_count": 143,
   "metadata": {},
   "outputs": [],
   "source": [
    "vars()['A'] = 0"
   ]
  },
  {
   "cell_type": "code",
   "execution_count": 144,
   "metadata": {},
   "outputs": [
    {
     "data": {
      "text/plain": [
       "0"
      ]
     },
     "execution_count": 144,
     "metadata": {},
     "output_type": "execute_result"
    }
   ],
   "source": [
    "A"
   ]
  },
  {
   "cell_type": "code",
   "execution_count": 142,
   "metadata": {},
   "outputs": [],
   "source": [
    "def a(b,c,d):\n",
    "    pass"
   ]
  },
  {
   "cell_type": "code",
   "execution_count": 155,
   "metadata": {},
   "outputs": [
    {
     "data": {
      "text/plain": [
       "3"
      ]
     },
     "execution_count": 155,
     "metadata": {},
     "output_type": "execute_result"
    }
   ],
   "source": [
    "from inspect import getfullargspec\n",
    "len(getfullargspec(a)[0])"
   ]
  },
  {
   "cell_type": "code",
   "execution_count": 157,
   "metadata": {},
   "outputs": [
    {
     "data": {
      "text/plain": [
       "'a'"
      ]
     },
     "execution_count": 157,
     "metadata": {},
     "output_type": "execute_result"
    }
   ],
   "source": [
    "a.__str__().split()[1]"
   ]
  },
  {
   "cell_type": "code",
   "execution_count": 162,
   "metadata": {},
   "outputs": [],
   "source": [
    "def get_number_of_args(func):\n",
    "    return len(func.__code__.co_varnames)"
   ]
  },
  {
   "cell_type": "code",
   "execution_count": 163,
   "metadata": {},
   "outputs": [
    {
     "name": "stdout",
     "output_type": "stream",
     "text": [
      "2\n"
     ]
    }
   ],
   "source": [
    "def g(a, b): pass\n",
    "print (get_number_of_args(g))   # 2"
   ]
  },
  {
   "cell_type": "code",
   "execution_count": null,
   "metadata": {},
   "outputs": [],
   "source": []
  }
 ],
 "metadata": {
  "kernelspec": {
   "display_name": "Python 3",
   "language": "python",
   "name": "python3"
  },
  "language_info": {
   "codemirror_mode": {
    "name": "ipython",
    "version": 3
   },
   "file_extension": ".py",
   "mimetype": "text/x-python",
   "name": "python",
   "nbconvert_exporter": "python",
   "pygments_lexer": "ipython3",
   "version": "3.7.4"
  }
 },
 "nbformat": 4,
 "nbformat_minor": 4
}
